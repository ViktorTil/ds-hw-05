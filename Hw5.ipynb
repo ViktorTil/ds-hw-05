{
  "cells": [
    {
      "cell_type": "code",
      "execution_count": null,
      "metadata": {
        "id": "kxjpybEDZEMI"
      },
      "outputs": [],
      "source": [
        "import pandas as pd\n",
        "import numpy as np\n",
        "import matplotlib.pyplot as plt\n",
        "import seaborn as sns"
      ]
    },
    {
      "cell_type": "code",
      "execution_count": null,
      "metadata": {
        "colab": {
          "base_uri": "https://localhost:8080/"
        },
        "id": "xiXmxYZIZOHY",
        "outputId": "f960cb70-7363-4d40-b467-6352cfc555da"
      },
      "outputs": [
        {
          "name": "stdout",
          "output_type": "stream",
          "text": [
            "Mounted at /content/drive\n"
          ]
        }
      ],
      "source": [
        "from google.colab import drive\n",
        "drive.mount('/content/drive')"
      ]
    },
    {
      "cell_type": "code",
      "execution_count": null,
      "metadata": {
        "colab": {
          "base_uri": "https://localhost:8080/"
        },
        "id": "bWacZ9WagpVo",
        "outputId": "76aacbb4-7871-4094-e0f5-c1de5ac4958b"
      },
      "outputs": [
        {
          "name": "stdout",
          "output_type": "stream",
          "text": [
            "   accelerometer_X  accelerometer_Y  accelerometer_Z activity\n",
            "0         1.996764        -6.062118        -6.210559   stairs\n",
            "1         3.438074        -7.139509         0.292093   stairs\n",
            "2        12.650962         1.618480        10.716447   stairs\n",
            "3         7.402872        -7.771579        -4.127603   stairs\n",
            "4         2.920926        -8.571242        -7.881712   stairs\n",
            "(193860, 4)\n"
          ]
        }
      ],
      "source": [
        "from pathlib import Path\n",
        "import pandas as pd\n",
        "data_directory = Path(\"/content/drive/MyDrive/Colab Notebooks/data\")\n",
        "file='/content/drive/MyDrive/Colab Notebooks/merged_dataset.csv'\n",
        "try:\n",
        "  merged_df = pd.read_csv(file)\n",
        "except:\n",
        "  merged_df = pd.DataFrame()\n",
        "  for activity_folder in data_directory.iterdir():\n",
        "      if activity_folder.is_dir():\n",
        "          activity_name = activity_folder.name\n",
        "\n",
        "          for file in activity_folder.iterdir():\n",
        "              if file.is_file() and file.suffix == '.csv':\n",
        "                  df = pd.read_csv(file)\n",
        "                  df['activity'] = activity_name\n",
        "                  merged_df = pd.concat([merged_df, df], ignore_index=True)\n",
        "  output_path = \"/content/drive/MyDrive/Colab Notebooks/merged_dataset.csv\"\n",
        "  merged_df.to_csv(output_path, index=False)\n",
        "\n",
        "print(merged_df.head())\n",
        "print(merged_df.shape)\n"
      ]
    },
    {
      "cell_type": "code",
      "execution_count": null,
      "metadata": {
        "colab": {
          "base_uri": "https://localhost:8080/"
        },
        "id": "5zEJUwTEgvoj",
        "outputId": "3ebee425-c4f5-4c33-d1f5-e93ec31d7657"
      },
      "outputs": [
        {
          "name": "stdout",
          "output_type": "stream",
          "text": [
            "running    102240\n",
            "walking     55500\n",
            "idle        31170\n",
            "stairs       4950\n",
            "Name: activity, dtype: int64\n"
          ]
        },
        {
          "data": {
            "text/plain": [
              "count         4.000000\n",
              "mean      48465.000000\n",
              "std       41367.918729\n",
              "min        4950.000000\n",
              "25%       24615.000000\n",
              "50%       43335.000000\n",
              "75%       67185.000000\n",
              "max      102240.000000\n",
              "Name: activity, dtype: float64"
            ]
          },
          "execution_count": 29,
          "metadata": {},
          "output_type": "execute_result"
        }
      ],
      "source": [
        "from sklearn.model_selection import train_test_split\n",
        "from sklearn.svm import SVC\n",
        "from sklearn.ensemble import RandomForestClassifier\n",
        "from sklearn.metrics import classification_report\n",
        "\n",
        "df = merged_df.copy()\n",
        "class_distribution = df['activity'].value_counts()\n",
        "print(df['activity'].value_counts())\n",
        "class_distribution.describe()\n"
      ]
    },
    {
      "cell_type": "code",
      "execution_count": 63,
      "metadata": {
        "colab": {
          "base_uri": "https://localhost:8080/"
        },
        "id": "-LQ5eDWnmGCD",
        "outputId": "df3a6cf5-f829-49d3-d5a4-833bbee4c05b"
      },
      "outputs": [
        {
          "output_type": "stream",
          "name": "stdout",
          "text": [
            "9900\n"
          ]
        },
        {
          "output_type": "execute_result",
          "data": {
            "text/plain": [
              "idle       9900\n",
              "running    9900\n",
              "walking    9900\n",
              "stairs     4950\n",
              "Name: activity, dtype: int64"
            ]
          },
          "metadata": {},
          "execution_count": 63
        }
      ],
      "source": [
        "from sklearn.utils import resample\n",
        "\n",
        "min_samples = 2*df['activity'].value_counts().min()\n",
        "\n",
        "running = df[df['activity'] == 'running']\n",
        "walking = df[df['activity'] == 'walking']\n",
        "idle = df[df['activity'] == 'idle']\n",
        "stairs = df[df['activity'] == 'stairs']\n",
        "\n",
        "running_downsampled = resample(running, replace=False, n_samples=min_samples, random_state=42)\n",
        "walking_downsampled = resample(walking, replace=False, n_samples=min_samples, random_state=42)\n",
        "idle_downsampled = resample(idle, replace=False, n_samples=min_samples, random_state=42)\n",
        "\n",
        "df_downsampled = pd.concat([running_downsampled, walking_downsampled, idle_downsampled, stairs])\n",
        "df_downsampled = df_downsampled.sample(frac=1, random_state=42).reset_index(drop=True)\n",
        "df_downsampled['activity'].value_counts()"
      ]
    },
    {
      "cell_type": "code",
      "execution_count": 64,
      "metadata": {
        "colab": {
          "base_uri": "https://localhost:8080/"
        },
        "id": "ouRN_txswCaU",
        "outputId": "2d26081f-e758-4f3e-9a63-ad4236e8e71e"
      },
      "outputs": [
        {
          "output_type": "execute_result",
          "data": {
            "text/plain": [
              "{'idle': 0.5, 'running': 0.5, 'walking': 0.5, 'stairs': 1.0}"
            ]
          },
          "metadata": {},
          "execution_count": 64
        }
      ],
      "source": [
        "class_weights = dict(df_downsampled['activity'].value_counts().min() / df_downsampled['activity'].value_counts())\n",
        "class_weights"
      ]
    },
    {
      "cell_type": "code",
      "execution_count": 65,
      "metadata": {
        "colab": {
          "base_uri": "https://localhost:8080/"
        },
        "id": "lIAqMDmJwyVY",
        "outputId": "e13f599c-3468-4a73-dbf1-3fcdddc506d2"
      },
      "outputs": [
        {
          "output_type": "stream",
          "name": "stdout",
          "text": [
            "(27720, 3) 27720 (6930, 3) 6930\n"
          ]
        }
      ],
      "source": [
        "X_train, X_test, y_train, y_test = train_test_split(df_downsampled.drop('activity', axis=1), df_downsampled['activity'], test_size=0.2, random_state=42)\n",
        "print(X_train.shape, len(y_train), X_test.shape, len(y_test))"
      ]
    },
    {
      "cell_type": "code",
      "source": [
        "from sklearn.model_selection import RandomizedSearchCV\n",
        "from sklearn.svm import SVC\n",
        "from scipy.stats import reciprocal, uniform\n",
        "\n",
        "param_dist = {\n",
        "    'C': reciprocal(0.1, 100),\n",
        "    'gamma': reciprocal(0.01, 10),\n",
        "}\n",
        "\n",
        "\n",
        "svm_model = SVC(kernel='rbf', class_weight=class_weights)\n",
        "\n",
        "random_search = RandomizedSearchCV(svm_model, param_distributions=param_dist, n_iter=10, cv=5, scoring='f1_weighted', n_jobs=-1)\n",
        "random_search.fit(X_train, y_train)\n",
        "print(\"Best Parameters: \", random_search.best_params_)\n",
        "print(\"Best Score: \", random_search.best_score_)\n",
        "\n",
        "y_pred = random_search.predict(X_test)\n",
        "print(classification_report(y_test, y_pred))\n"
      ],
      "metadata": {
        "colab": {
          "base_uri": "https://localhost:8080/"
        },
        "id": "QLxl4oq0dXKu",
        "outputId": "2b967d92-635e-48ed-d38a-eed1d5c3dac7"
      },
      "execution_count": 69,
      "outputs": [
        {
          "output_type": "stream",
          "name": "stdout",
          "text": [
            "Best Parameters:  {'C': 29.756541808209167, 'gamma': 7.338340647549535}\n",
            "Best Score:  0.9616588792437242\n",
            "              precision    recall  f1-score   support\n",
            "\n",
            "        idle       1.00      1.00      1.00      1941\n",
            "     running       0.93      0.99      0.96      1966\n",
            "      stairs       1.00      0.99      0.99       981\n",
            "     walking       0.99      0.94      0.96      2042\n",
            "\n",
            "    accuracy                           0.98      6930\n",
            "   macro avg       0.98      0.98      0.98      6930\n",
            "weighted avg       0.98      0.98      0.98      6930\n",
            "\n"
          ]
        }
      ]
    },
    {
      "cell_type": "code",
      "execution_count": 72,
      "metadata": {
        "colab": {
          "base_uri": "https://localhost:8080/"
        },
        "id": "rrhFrC6GlX8q",
        "outputId": "70e2ab4a-db7b-463d-eaf7-fc2781d67d95"
      },
      "outputs": [
        {
          "output_type": "stream",
          "name": "stdout",
          "text": [
            "              precision    recall  f1-score   support\n",
            "\n",
            "        idle       1.00      1.00      1.00      1941\n",
            "     running       0.99      0.96      0.97      1966\n",
            "      stairs       0.99      0.99      0.99       981\n",
            "     walking       0.96      0.99      0.98      2042\n",
            "\n",
            "    accuracy                           0.98      6930\n",
            "   macro avg       0.98      0.98      0.98      6930\n",
            "weighted avg       0.98      0.98      0.98      6930\n",
            "\n"
          ]
        }
      ],
      "source": [
        "from sklearn.ensemble import RandomForestClassifier\n",
        "\n",
        "\n",
        "rf_model = RandomForestClassifier(class_weight=class_weights)\n",
        "rf_model.fit(X_train, y_train)\n",
        "\n",
        "y_pred_rf = rf_model.predict(X_test)\n",
        "print(classification_report(y_test, y_pred_rf))"
      ]
    }
  ],
  "metadata": {
    "colab": {
      "provenance": []
    },
    "kernelspec": {
      "display_name": "Python 3",
      "name": "python3"
    },
    "language_info": {
      "name": "python"
    }
  },
  "nbformat": 4,
  "nbformat_minor": 0
}